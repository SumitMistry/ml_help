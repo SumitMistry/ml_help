{
 "cells": [
  {
   "cell_type": "markdown",
   "metadata": {
    "colab_type": "text",
    "id": "n5jU0gNA2YAq"
   },
   "source": [
    "**General questions**"
   ]
  },
  {
   "cell_type": "markdown",
   "metadata": {
    "colab_type": "text",
    "id": "8H8YBYcR2YAt"
   },
   "source": [
    "* **Write down steps to complete a regression analysis in a Markdowwn cell**"
   ]
  },
  {
   "cell_type": "markdown",
   "metadata": {
    "colab_type": "text",
    "id": "EkCrZcnP3rfC"
   },
   "source": [
    "1. Define and design the sample plan to be analyzed.\n",
    "    - eg. sample size, number of explanatory variable \n",
    "    - Find a relationship between variable.( is a linear /non linear for y=mx+c).\n",
    "    \n",
    "2. Collect prepare and explore dataset from the research / available data.\n",
    "3. create a model, fit-train model and find out the model accuracy and coefficient values and perform evaluation.\n",
    "\n",
    "Then judge the analysis performed.\n"
   ]
  },
  {
   "cell_type": "markdown",
   "metadata": {
    "colab_type": "text",
    "id": "-z-7CcA32YAx"
   },
   "source": [
    "# Dataset Source: http://archive.ics.uci.edu/ml/datasets/Abalone"
   ]
  },
  {
   "cell_type": "markdown",
   "metadata": {
    "colab_type": "text",
    "id": "aD0RtTt82YAz"
   },
   "source": [
    "### Data Set Information:\n",
    "\n",
    "Predicting the age of abalone from physical measurements. The age of abalone is determined by cutting the shell through the cone, staining it, and counting the number of rings through a microscope -- a boring and time-consuming task. Other measurements, which are easier to obtain, are used to predict the age. Further information, such as weather patterns and location (hence food availability) may be required to solve the problem.\n",
    "\n",
    "From the original data examples with missing values were removed (the majority having the predicted value missing), and the ranges of the continuous values have been scaled for use with an ANN (by dividing by 200).\n",
    "\n",
    "Attribute Information:\n",
    "\n",
    "Given is the attribute name, attribute type, the measurement unit and a brief description. The number of rings is the value to predict: either as a continuous value or as a classification problem.\n",
    "\n",
    "Name / Data Type / Measurement Unit / Description\n",
    "-----------------------------\n",
    "* Sex / nominal / -- / M, F, and I (infant)\n",
    "* Length / continuous / mm / Longest shell measurement\n",
    "* Diameter / continuous / mm / perpendicular to length\n",
    "* Height / continuous / mm / with meat in shell\n",
    "* Whole weight / continuous / grams / whole abalone\n",
    "* Shucked weight / continuous / grams / weight of meat\n",
    "* Viscera weight / continuous / grams / gut weight (after bleeding)\n",
    "* Shell weight / continuous / grams / after being dried\n",
    "* Rings / integer / -- / +1.5 gives the **age** in years\n"
   ]
  },
  {
   "cell_type": "markdown",
   "metadata": {
    "colab_type": "text",
    "id": "RTsMk0WQ2YA0"
   },
   "source": [
    "# Questions\n",
    "* Read the dataset `abalone.data` into a dataframe named as dfR\n",
    "* Write down all basic necessary steps\n",
    "* Select X (independent variables 'all columns other than the **Rings** column') and Y (dependent variable the 'Rings' column)\n",
    "* Split the data in training (70%) and testing (30%)\n",
    "* while splitting the data in training and testing ensure that with every run same data is picked for training\n",
    "* Select any two regression algorithms of your choice\n",
    "* Train the algorithms in 3 frameworks (simple sklearn, TensorFlow, Spark)\n",
    "* Calculate RMSE for all cases (6 cases= 2 Algo * 3 frameworks)\n",
    "* Which algorithm has the best accuracy"
   ]
  },
  {
   "cell_type": "markdown",
   "metadata": {
    "colab_type": "text",
    "id": "7HUWv7uX2YA4"
   },
   "source": [
    "## Start writing your solution from the following cell. "
   ]
  },
  {
   "cell_type": "code",
   "execution_count": 0,
   "metadata": {
    "colab": {},
    "colab_type": "code",
    "id": "LM8_BTsr2YA6"
   },
   "outputs": [],
   "source": [
    "# Read the dataset `abalone.data` into a dataframe named as dfR\n",
    "import pandas\n",
    "import numpy"
   ]
  },
  {
   "cell_type": "code",
   "execution_count": 0,
   "metadata": {
    "colab": {},
    "colab_type": "code",
    "id": "QHSYTJRr8aHL"
   },
   "outputs": [],
   "source": [
    "dfR = pandas.read_csv\n",
    "\n",
    "dfR = pandas.read_csv('https://archive.ics.uci.edu/ml/machine-learning-databases/abalone/abalone.data',sep= ',', header= None)"
   ]
  },
  {
   "cell_type": "code",
   "execution_count": 11,
   "metadata": {
    "colab": {
     "base_uri": "https://localhost:8080/",
     "height": 143
    },
    "colab_type": "code",
    "executionInfo": {
     "elapsed": 10352,
     "status": "ok",
     "timestamp": 1586973440365,
     "user": {
      "displayName": "Sumit Mistry",
      "photoUrl": "https://lh3.googleusercontent.com/a-/AOh14Gj7UOyquUtRC0VYjYPKdmbsVWV3uE8gz82iVvNbyg=s64",
      "userId": "11733931254869325882"
     },
     "user_tz": 240
    },
    "id": "Z4YiS3GX9U3f",
    "outputId": "58244a7b-fdcf-414f-e9c9-46e39775209a"
   },
   "outputs": [
    {
     "data": {
      "text/html": [
       "<div>\n",
       "<style scoped>\n",
       "    .dataframe tbody tr th:only-of-type {\n",
       "        vertical-align: middle;\n",
       "    }\n",
       "\n",
       "    .dataframe tbody tr th {\n",
       "        vertical-align: top;\n",
       "    }\n",
       "\n",
       "    .dataframe thead th {\n",
       "        text-align: right;\n",
       "    }\n",
       "</style>\n",
       "<table border=\"1\" class=\"dataframe\">\n",
       "  <thead>\n",
       "    <tr style=\"text-align: right;\">\n",
       "      <th></th>\n",
       "      <th>0</th>\n",
       "      <th>1</th>\n",
       "      <th>2</th>\n",
       "      <th>3</th>\n",
       "      <th>4</th>\n",
       "      <th>5</th>\n",
       "      <th>6</th>\n",
       "      <th>7</th>\n",
       "      <th>8</th>\n",
       "    </tr>\n",
       "  </thead>\n",
       "  <tbody>\n",
       "    <tr>\n",
       "      <th>0</th>\n",
       "      <td>M</td>\n",
       "      <td>0.455</td>\n",
       "      <td>0.365</td>\n",
       "      <td>0.095</td>\n",
       "      <td>0.5140</td>\n",
       "      <td>0.2245</td>\n",
       "      <td>0.1010</td>\n",
       "      <td>0.15</td>\n",
       "      <td>15</td>\n",
       "    </tr>\n",
       "    <tr>\n",
       "      <th>1</th>\n",
       "      <td>M</td>\n",
       "      <td>0.350</td>\n",
       "      <td>0.265</td>\n",
       "      <td>0.090</td>\n",
       "      <td>0.2255</td>\n",
       "      <td>0.0995</td>\n",
       "      <td>0.0485</td>\n",
       "      <td>0.07</td>\n",
       "      <td>7</td>\n",
       "    </tr>\n",
       "    <tr>\n",
       "      <th>2</th>\n",
       "      <td>F</td>\n",
       "      <td>0.530</td>\n",
       "      <td>0.420</td>\n",
       "      <td>0.135</td>\n",
       "      <td>0.6770</td>\n",
       "      <td>0.2565</td>\n",
       "      <td>0.1415</td>\n",
       "      <td>0.21</td>\n",
       "      <td>9</td>\n",
       "    </tr>\n",
       "  </tbody>\n",
       "</table>\n",
       "</div>"
      ],
      "text/plain": [
       "   0      1      2      3       4       5       6     7   8\n",
       "0  M  0.455  0.365  0.095  0.5140  0.2245  0.1010  0.15  15\n",
       "1  M  0.350  0.265  0.090  0.2255  0.0995  0.0485  0.07   7\n",
       "2  F  0.530  0.420  0.135  0.6770  0.2565  0.1415  0.21   9"
      ]
     },
     "execution_count": 11,
     "metadata": {
      "tags": []
     },
     "output_type": "execute_result"
    }
   ],
   "source": [
    "dfR.head(3)"
   ]
  },
  {
   "cell_type": "markdown",
   "metadata": {
    "colab_type": "text",
    "id": "HLiy28KI2YBC"
   },
   "source": [
    "**Read the `abalone.data` file and set the column names by consulting the section \"Name / Data Type / Measurement Unit / Description\"**"
   ]
  },
  {
   "cell_type": "code",
   "execution_count": 0,
   "metadata": {
    "colab": {},
    "colab_type": "code",
    "id": "jgTb-39o_x6l"
   },
   "outputs": [],
   "source": [
    "column_names = ['Sex', \t'Length', \t'Diameter', \t'Height', \t'Whole weight', \t'Shucked weight', \t'Viscera weight', \t'Shell weight', \t'Rings']\n"
   ]
  },
  {
   "cell_type": "code",
   "execution_count": 13,
   "metadata": {
    "colab": {
     "base_uri": "https://localhost:8080/",
     "height": 73
    },
    "colab_type": "code",
    "executionInfo": {
     "elapsed": 10329,
     "status": "ok",
     "timestamp": 1586973440371,
     "user": {
      "displayName": "Sumit Mistry",
      "photoUrl": "https://lh3.googleusercontent.com/a-/AOh14Gj7UOyquUtRC0VYjYPKdmbsVWV3uE8gz82iVvNbyg=s64",
      "userId": "11733931254869325882"
     },
     "user_tz": 240
    },
    "id": "tPN8ADi22YBE",
    "outputId": "249b2f61-28eb-4c3e-e33b-942c745beefc"
   },
   "outputs": [
    {
     "data": {
      "text/plain": [
       "Index(['Sex', 'Length', 'Diameter', 'Height', 'Whole weight', 'Shucked weight',\n",
       "       'Viscera weight', 'Shell weight', 'Rings'],\n",
       "      dtype='object')"
      ]
     },
     "execution_count": 13,
     "metadata": {
      "tags": []
     },
     "output_type": "execute_result"
    }
   ],
   "source": [
    "dfR = pandas.read_csv('https://archive.ics.uci.edu/ml/machine-learning-databases/abalone/abalone.data',sep= ',', header= None, names=column_names)\n",
    "dfR.columns\n"
   ]
  },
  {
   "cell_type": "code",
   "execution_count": 14,
   "metadata": {
    "colab": {
     "base_uri": "https://localhost:8080/",
     "height": 206
    },
    "colab_type": "code",
    "executionInfo": {
     "elapsed": 10318,
     "status": "ok",
     "timestamp": 1586973440373,
     "user": {
      "displayName": "Sumit Mistry",
      "photoUrl": "https://lh3.googleusercontent.com/a-/AOh14Gj7UOyquUtRC0VYjYPKdmbsVWV3uE8gz82iVvNbyg=s64",
      "userId": "11733931254869325882"
     },
     "user_tz": 240
    },
    "id": "nslRYS3W2YBJ",
    "outputId": "5ee72f1d-24bb-47e2-f554-7602931acb02"
   },
   "outputs": [
    {
     "data": {
      "text/html": [
       "<div>\n",
       "<style scoped>\n",
       "    .dataframe tbody tr th:only-of-type {\n",
       "        vertical-align: middle;\n",
       "    }\n",
       "\n",
       "    .dataframe tbody tr th {\n",
       "        vertical-align: top;\n",
       "    }\n",
       "\n",
       "    .dataframe thead th {\n",
       "        text-align: right;\n",
       "    }\n",
       "</style>\n",
       "<table border=\"1\" class=\"dataframe\">\n",
       "  <thead>\n",
       "    <tr style=\"text-align: right;\">\n",
       "      <th></th>\n",
       "      <th>Sex</th>\n",
       "      <th>Length</th>\n",
       "      <th>Diameter</th>\n",
       "      <th>Height</th>\n",
       "      <th>Whole weight</th>\n",
       "      <th>Shucked weight</th>\n",
       "      <th>Viscera weight</th>\n",
       "      <th>Shell weight</th>\n",
       "      <th>Rings</th>\n",
       "    </tr>\n",
       "  </thead>\n",
       "  <tbody>\n",
       "    <tr>\n",
       "      <th>0</th>\n",
       "      <td>M</td>\n",
       "      <td>0.455</td>\n",
       "      <td>0.365</td>\n",
       "      <td>0.095</td>\n",
       "      <td>0.5140</td>\n",
       "      <td>0.2245</td>\n",
       "      <td>0.1010</td>\n",
       "      <td>0.150</td>\n",
       "      <td>15</td>\n",
       "    </tr>\n",
       "    <tr>\n",
       "      <th>1</th>\n",
       "      <td>M</td>\n",
       "      <td>0.350</td>\n",
       "      <td>0.265</td>\n",
       "      <td>0.090</td>\n",
       "      <td>0.2255</td>\n",
       "      <td>0.0995</td>\n",
       "      <td>0.0485</td>\n",
       "      <td>0.070</td>\n",
       "      <td>7</td>\n",
       "    </tr>\n",
       "    <tr>\n",
       "      <th>2</th>\n",
       "      <td>F</td>\n",
       "      <td>0.530</td>\n",
       "      <td>0.420</td>\n",
       "      <td>0.135</td>\n",
       "      <td>0.6770</td>\n",
       "      <td>0.2565</td>\n",
       "      <td>0.1415</td>\n",
       "      <td>0.210</td>\n",
       "      <td>9</td>\n",
       "    </tr>\n",
       "    <tr>\n",
       "      <th>3</th>\n",
       "      <td>M</td>\n",
       "      <td>0.440</td>\n",
       "      <td>0.365</td>\n",
       "      <td>0.125</td>\n",
       "      <td>0.5160</td>\n",
       "      <td>0.2155</td>\n",
       "      <td>0.1140</td>\n",
       "      <td>0.155</td>\n",
       "      <td>10</td>\n",
       "    </tr>\n",
       "    <tr>\n",
       "      <th>4</th>\n",
       "      <td>I</td>\n",
       "      <td>0.330</td>\n",
       "      <td>0.255</td>\n",
       "      <td>0.080</td>\n",
       "      <td>0.2050</td>\n",
       "      <td>0.0895</td>\n",
       "      <td>0.0395</td>\n",
       "      <td>0.055</td>\n",
       "      <td>7</td>\n",
       "    </tr>\n",
       "  </tbody>\n",
       "</table>\n",
       "</div>"
      ],
      "text/plain": [
       "  Sex  Length  Diameter  ...  Viscera weight  Shell weight  Rings\n",
       "0   M   0.455     0.365  ...          0.1010         0.150     15\n",
       "1   M   0.350     0.265  ...          0.0485         0.070      7\n",
       "2   F   0.530     0.420  ...          0.1415         0.210      9\n",
       "3   M   0.440     0.365  ...          0.1140         0.155     10\n",
       "4   I   0.330     0.255  ...          0.0395         0.055      7\n",
       "\n",
       "[5 rows x 9 columns]"
      ]
     },
     "execution_count": 14,
     "metadata": {
      "tags": []
     },
     "output_type": "execute_result"
    }
   ],
   "source": [
    "dfR.head() #or dfR.head(5)"
   ]
  },
  {
   "cell_type": "code",
   "execution_count": 15,
   "metadata": {
    "colab": {
     "base_uri": "https://localhost:8080/",
     "height": 92
    },
    "colab_type": "code",
    "executionInfo": {
     "elapsed": 10306,
     "status": "ok",
     "timestamp": 1586973440374,
     "user": {
      "displayName": "Sumit Mistry",
      "photoUrl": "https://lh3.googleusercontent.com/a-/AOh14Gj7UOyquUtRC0VYjYPKdmbsVWV3uE8gz82iVvNbyg=s64",
      "userId": "11733931254869325882"
     },
     "user_tz": 240
    },
    "id": "so2r2u8L2YBU",
    "outputId": "72b284cd-d452-4fef-d23a-763f72ba59c4"
   },
   "outputs": [
    {
     "data": {
      "text/plain": [
       "M    1528\n",
       "I    1342\n",
       "F    1307\n",
       "Name: Sex, dtype: int64"
      ]
     },
     "execution_count": 15,
     "metadata": {
      "tags": []
     },
     "output_type": "execute_result"
    }
   ],
   "source": [
    "dfR.Sex.value_counts()"
   ]
  },
  {
   "cell_type": "code",
   "execution_count": 16,
   "metadata": {
    "colab": {
     "base_uri": "https://localhost:8080/",
     "height": 316
    },
    "colab_type": "code",
    "executionInfo": {
     "elapsed": 10301,
     "status": "ok",
     "timestamp": 1586973440375,
     "user": {
      "displayName": "Sumit Mistry",
      "photoUrl": "https://lh3.googleusercontent.com/a-/AOh14Gj7UOyquUtRC0VYjYPKdmbsVWV3uE8gz82iVvNbyg=s64",
      "userId": "11733931254869325882"
     },
     "user_tz": 240
    },
    "id": "19gU4c1R_1zy",
    "outputId": "e40276a3-2400-4079-b6fd-f57a0a983dcc"
   },
   "outputs": [
    {
     "name": "stdout",
     "output_type": "stream",
     "text": [
      "<class 'pandas.core.frame.DataFrame'>\n",
      "RangeIndex: 4177 entries, 0 to 4176\n",
      "Data columns (total 9 columns):\n",
      " #   Column          Non-Null Count  Dtype  \n",
      "---  ------          --------------  -----  \n",
      " 0   Sex             4177 non-null   object \n",
      " 1   Length          4177 non-null   float64\n",
      " 2   Diameter        4177 non-null   float64\n",
      " 3   Height          4177 non-null   float64\n",
      " 4   Whole weight    4177 non-null   float64\n",
      " 5   Shucked weight  4177 non-null   float64\n",
      " 6   Viscera weight  4177 non-null   float64\n",
      " 7   Shell weight    4177 non-null   float64\n",
      " 8   Rings           4177 non-null   int64  \n",
      "dtypes: float64(7), int64(1), object(1)\n",
      "memory usage: 293.8+ KB\n"
     ]
    }
   ],
   "source": [
    "dfR.info()"
   ]
  },
  {
   "cell_type": "markdown",
   "metadata": {
    "colab_type": "text",
    "id": "yFWmN7yq2YBm"
   },
   "source": [
    "**Convert the column `Sex` to numbers**"
   ]
  },
  {
   "cell_type": "code",
   "execution_count": 0,
   "metadata": {
    "colab": {},
    "colab_type": "code",
    "id": "X43Hh8BZ2YBo"
   },
   "outputs": [],
   "source": [
    "dfR.replace({\"Sex\":{\"I\":1, \"M\":2, \"F\":3}}, inplace=True)"
   ]
  },
  {
   "cell_type": "code",
   "execution_count": 0,
   "metadata": {
    "colab": {},
    "colab_type": "code",
    "id": "I1CPxYg01gMN"
   },
   "outputs": [],
   "source": [
    "dfR.to_csv('corrected_csv', index = False, header=False)"
   ]
  },
  {
   "cell_type": "code",
   "execution_count": 19,
   "metadata": {
    "colab": {
     "base_uri": "https://localhost:8080/",
     "height": 206
    },
    "colab_type": "code",
    "executionInfo": {
     "elapsed": 10297,
     "status": "ok",
     "timestamp": 1586973440379,
     "user": {
      "displayName": "Sumit Mistry",
      "photoUrl": "https://lh3.googleusercontent.com/a-/AOh14Gj7UOyquUtRC0VYjYPKdmbsVWV3uE8gz82iVvNbyg=s64",
      "userId": "11733931254869325882"
     },
     "user_tz": 240
    },
    "id": "Gpnljb992Wlr",
    "outputId": "ec8227e3-2ae6-4ed9-a3f7-df1f99e98315"
   },
   "outputs": [
    {
     "data": {
      "text/html": [
       "<div>\n",
       "<style scoped>\n",
       "    .dataframe tbody tr th:only-of-type {\n",
       "        vertical-align: middle;\n",
       "    }\n",
       "\n",
       "    .dataframe tbody tr th {\n",
       "        vertical-align: top;\n",
       "    }\n",
       "\n",
       "    .dataframe thead th {\n",
       "        text-align: right;\n",
       "    }\n",
       "</style>\n",
       "<table border=\"1\" class=\"dataframe\">\n",
       "  <thead>\n",
       "    <tr style=\"text-align: right;\">\n",
       "      <th></th>\n",
       "      <th>Sex</th>\n",
       "      <th>Length</th>\n",
       "      <th>Diameter</th>\n",
       "      <th>Height</th>\n",
       "      <th>Whole weight</th>\n",
       "      <th>Shucked weight</th>\n",
       "      <th>Viscera weight</th>\n",
       "      <th>Shell weight</th>\n",
       "      <th>Rings</th>\n",
       "    </tr>\n",
       "  </thead>\n",
       "  <tbody>\n",
       "    <tr>\n",
       "      <th>0</th>\n",
       "      <td>2</td>\n",
       "      <td>0.455</td>\n",
       "      <td>0.365</td>\n",
       "      <td>0.095</td>\n",
       "      <td>0.5140</td>\n",
       "      <td>0.2245</td>\n",
       "      <td>0.1010</td>\n",
       "      <td>0.150</td>\n",
       "      <td>15</td>\n",
       "    </tr>\n",
       "    <tr>\n",
       "      <th>1</th>\n",
       "      <td>2</td>\n",
       "      <td>0.350</td>\n",
       "      <td>0.265</td>\n",
       "      <td>0.090</td>\n",
       "      <td>0.2255</td>\n",
       "      <td>0.0995</td>\n",
       "      <td>0.0485</td>\n",
       "      <td>0.070</td>\n",
       "      <td>7</td>\n",
       "    </tr>\n",
       "    <tr>\n",
       "      <th>2</th>\n",
       "      <td>3</td>\n",
       "      <td>0.530</td>\n",
       "      <td>0.420</td>\n",
       "      <td>0.135</td>\n",
       "      <td>0.6770</td>\n",
       "      <td>0.2565</td>\n",
       "      <td>0.1415</td>\n",
       "      <td>0.210</td>\n",
       "      <td>9</td>\n",
       "    </tr>\n",
       "    <tr>\n",
       "      <th>3</th>\n",
       "      <td>2</td>\n",
       "      <td>0.440</td>\n",
       "      <td>0.365</td>\n",
       "      <td>0.125</td>\n",
       "      <td>0.5160</td>\n",
       "      <td>0.2155</td>\n",
       "      <td>0.1140</td>\n",
       "      <td>0.155</td>\n",
       "      <td>10</td>\n",
       "    </tr>\n",
       "    <tr>\n",
       "      <th>4</th>\n",
       "      <td>1</td>\n",
       "      <td>0.330</td>\n",
       "      <td>0.255</td>\n",
       "      <td>0.080</td>\n",
       "      <td>0.2050</td>\n",
       "      <td>0.0895</td>\n",
       "      <td>0.0395</td>\n",
       "      <td>0.055</td>\n",
       "      <td>7</td>\n",
       "    </tr>\n",
       "  </tbody>\n",
       "</table>\n",
       "</div>"
      ],
      "text/plain": [
       "   Sex  Length  Diameter  ...  Viscera weight  Shell weight  Rings\n",
       "0    2   0.455     0.365  ...          0.1010         0.150     15\n",
       "1    2   0.350     0.265  ...          0.0485         0.070      7\n",
       "2    3   0.530     0.420  ...          0.1415         0.210      9\n",
       "3    2   0.440     0.365  ...          0.1140         0.155     10\n",
       "4    1   0.330     0.255  ...          0.0395         0.055      7\n",
       "\n",
       "[5 rows x 9 columns]"
      ]
     },
     "execution_count": 19,
     "metadata": {
      "tags": []
     },
     "output_type": "execute_result"
    }
   ],
   "source": [
    "corrected_csv_dataset = pandas.read_csv('corrected_csv',sep= ',', header= None, names=column_names)\n",
    "corrected_csv_dataset.head(5)\n"
   ]
  },
  {
   "cell_type": "code",
   "execution_count": 0,
   "metadata": {
    "colab": {},
    "colab_type": "code",
    "id": "JIK0gm48nFC0"
   },
   "outputs": [],
   "source": [
    "#corrected_csv_dataset.Rings.multiply(1.5)"
   ]
  },
  {
   "cell_type": "code",
   "execution_count": 21,
   "metadata": {
    "colab": {
     "base_uri": "https://localhost:8080/",
     "height": 316
    },
    "colab_type": "code",
    "executionInfo": {
     "elapsed": 10293,
     "status": "ok",
     "timestamp": 1586973440381,
     "user": {
      "displayName": "Sumit Mistry",
      "photoUrl": "https://lh3.googleusercontent.com/a-/AOh14Gj7UOyquUtRC0VYjYPKdmbsVWV3uE8gz82iVvNbyg=s64",
      "userId": "11733931254869325882"
     },
     "user_tz": 240
    },
    "id": "3OvC3atk2YBr",
    "outputId": "040582d9-d54a-4b07-9ab0-4f106e4b987d"
   },
   "outputs": [
    {
     "name": "stdout",
     "output_type": "stream",
     "text": [
      "<class 'pandas.core.frame.DataFrame'>\n",
      "RangeIndex: 4177 entries, 0 to 4176\n",
      "Data columns (total 9 columns):\n",
      " #   Column          Non-Null Count  Dtype  \n",
      "---  ------          --------------  -----  \n",
      " 0   Sex             4177 non-null   int64  \n",
      " 1   Length          4177 non-null   float64\n",
      " 2   Diameter        4177 non-null   float64\n",
      " 3   Height          4177 non-null   float64\n",
      " 4   Whole weight    4177 non-null   float64\n",
      " 5   Shucked weight  4177 non-null   float64\n",
      " 6   Viscera weight  4177 non-null   float64\n",
      " 7   Shell weight    4177 non-null   float64\n",
      " 8   Rings           4177 non-null   int64  \n",
      "dtypes: float64(7), int64(2)\n",
      "memory usage: 293.8 KB\n"
     ]
    }
   ],
   "source": [
    "dfR.info() # str/object ----> int64  "
   ]
  },
  {
   "cell_type": "code",
   "execution_count": 22,
   "metadata": {
    "colab": {
     "base_uri": "https://localhost:8080/",
     "height": 206
    },
    "colab_type": "code",
    "executionInfo": {
     "elapsed": 10287,
     "status": "ok",
     "timestamp": 1586973440382,
     "user": {
      "displayName": "Sumit Mistry",
      "photoUrl": "https://lh3.googleusercontent.com/a-/AOh14Gj7UOyquUtRC0VYjYPKdmbsVWV3uE8gz82iVvNbyg=s64",
      "userId": "11733931254869325882"
     },
     "user_tz": 240
    },
    "id": "XLOFVOKH2YBy",
    "outputId": "660cfc15-7a09-4e8e-8c6d-b84d6272ebd8"
   },
   "outputs": [
    {
     "data": {
      "text/html": [
       "<div>\n",
       "<style scoped>\n",
       "    .dataframe tbody tr th:only-of-type {\n",
       "        vertical-align: middle;\n",
       "    }\n",
       "\n",
       "    .dataframe tbody tr th {\n",
       "        vertical-align: top;\n",
       "    }\n",
       "\n",
       "    .dataframe thead th {\n",
       "        text-align: right;\n",
       "    }\n",
       "</style>\n",
       "<table border=\"1\" class=\"dataframe\">\n",
       "  <thead>\n",
       "    <tr style=\"text-align: right;\">\n",
       "      <th></th>\n",
       "      <th>Sex</th>\n",
       "      <th>Length</th>\n",
       "      <th>Diameter</th>\n",
       "      <th>Height</th>\n",
       "      <th>Whole weight</th>\n",
       "      <th>Shucked weight</th>\n",
       "      <th>Viscera weight</th>\n",
       "      <th>Shell weight</th>\n",
       "      <th>Rings</th>\n",
       "    </tr>\n",
       "  </thead>\n",
       "  <tbody>\n",
       "    <tr>\n",
       "      <th>0</th>\n",
       "      <td>2</td>\n",
       "      <td>0.455</td>\n",
       "      <td>0.365</td>\n",
       "      <td>0.095</td>\n",
       "      <td>0.5140</td>\n",
       "      <td>0.2245</td>\n",
       "      <td>0.1010</td>\n",
       "      <td>0.150</td>\n",
       "      <td>15</td>\n",
       "    </tr>\n",
       "    <tr>\n",
       "      <th>1</th>\n",
       "      <td>2</td>\n",
       "      <td>0.350</td>\n",
       "      <td>0.265</td>\n",
       "      <td>0.090</td>\n",
       "      <td>0.2255</td>\n",
       "      <td>0.0995</td>\n",
       "      <td>0.0485</td>\n",
       "      <td>0.070</td>\n",
       "      <td>7</td>\n",
       "    </tr>\n",
       "    <tr>\n",
       "      <th>2</th>\n",
       "      <td>3</td>\n",
       "      <td>0.530</td>\n",
       "      <td>0.420</td>\n",
       "      <td>0.135</td>\n",
       "      <td>0.6770</td>\n",
       "      <td>0.2565</td>\n",
       "      <td>0.1415</td>\n",
       "      <td>0.210</td>\n",
       "      <td>9</td>\n",
       "    </tr>\n",
       "    <tr>\n",
       "      <th>3</th>\n",
       "      <td>2</td>\n",
       "      <td>0.440</td>\n",
       "      <td>0.365</td>\n",
       "      <td>0.125</td>\n",
       "      <td>0.5160</td>\n",
       "      <td>0.2155</td>\n",
       "      <td>0.1140</td>\n",
       "      <td>0.155</td>\n",
       "      <td>10</td>\n",
       "    </tr>\n",
       "    <tr>\n",
       "      <th>4</th>\n",
       "      <td>1</td>\n",
       "      <td>0.330</td>\n",
       "      <td>0.255</td>\n",
       "      <td>0.080</td>\n",
       "      <td>0.2050</td>\n",
       "      <td>0.0895</td>\n",
       "      <td>0.0395</td>\n",
       "      <td>0.055</td>\n",
       "      <td>7</td>\n",
       "    </tr>\n",
       "  </tbody>\n",
       "</table>\n",
       "</div>"
      ],
      "text/plain": [
       "   Sex  Length  Diameter  ...  Viscera weight  Shell weight  Rings\n",
       "0    2   0.455     0.365  ...          0.1010         0.150     15\n",
       "1    2   0.350     0.265  ...          0.0485         0.070      7\n",
       "2    3   0.530     0.420  ...          0.1415         0.210      9\n",
       "3    2   0.440     0.365  ...          0.1140         0.155     10\n",
       "4    1   0.330     0.255  ...          0.0395         0.055      7\n",
       "\n",
       "[5 rows x 9 columns]"
      ]
     },
     "execution_count": 22,
     "metadata": {
      "tags": []
     },
     "output_type": "execute_result"
    }
   ],
   "source": [
    "dfR.head()"
   ]
  },
  {
   "cell_type": "markdown",
   "metadata": {
    "colab_type": "text",
    "id": "Cl_EdoAyBCCV"
   },
   "source": [
    "# # Questions\n",
    "* Select X (independent variables 'all columns other than the **Rings** column') and Y (dependent variable the 'Rings' column)\n",
    "* Split the data in training (70%) and testing (30%)\n",
    "* while splitting the data in training and testing ensure that with every run same data is picked for training\n",
    "* Select any two regression algorithms of your choice\n",
    "* Train the algorithms in 3 frameworks (simple sklearn, TensorFlow, Spark)\n",
    "* Calculate RMSE for all cases (6 cases= 2 Algo * 3 frameworks)\n",
    "* Which algorithm has the best accuracy"
   ]
  },
  {
   "cell_type": "code",
   "execution_count": 0,
   "metadata": {
    "colab": {},
    "colab_type": "code",
    "id": "5CG40xGRA-Zm"
   },
   "outputs": [],
   "source": [
    "x = dfR.iloc[:,[0,1,2,3,4,5,6,7]]\n",
    "y = dfR.iloc[:,[8]]"
   ]
  },
  {
   "cell_type": "code",
   "execution_count": 24,
   "metadata": {
    "colab": {
     "base_uri": "https://localhost:8080/",
     "height": 143
    },
    "colab_type": "code",
    "executionInfo": {
     "elapsed": 10285,
     "status": "ok",
     "timestamp": 1586973440384,
     "user": {
      "displayName": "Sumit Mistry",
      "photoUrl": "https://lh3.googleusercontent.com/a-/AOh14Gj7UOyquUtRC0VYjYPKdmbsVWV3uE8gz82iVvNbyg=s64",
      "userId": "11733931254869325882"
     },
     "user_tz": 240
    },
    "id": "hHr8PBB6BMEf",
    "outputId": "00d74813-5b7c-4fcc-c82b-3f0f6f52a8bb"
   },
   "outputs": [
    {
     "data": {
      "text/html": [
       "<div>\n",
       "<style scoped>\n",
       "    .dataframe tbody tr th:only-of-type {\n",
       "        vertical-align: middle;\n",
       "    }\n",
       "\n",
       "    .dataframe tbody tr th {\n",
       "        vertical-align: top;\n",
       "    }\n",
       "\n",
       "    .dataframe thead th {\n",
       "        text-align: right;\n",
       "    }\n",
       "</style>\n",
       "<table border=\"1\" class=\"dataframe\">\n",
       "  <thead>\n",
       "    <tr style=\"text-align: right;\">\n",
       "      <th></th>\n",
       "      <th>Sex</th>\n",
       "      <th>Length</th>\n",
       "      <th>Diameter</th>\n",
       "      <th>Height</th>\n",
       "      <th>Whole weight</th>\n",
       "      <th>Shucked weight</th>\n",
       "      <th>Viscera weight</th>\n",
       "      <th>Shell weight</th>\n",
       "    </tr>\n",
       "  </thead>\n",
       "  <tbody>\n",
       "    <tr>\n",
       "      <th>0</th>\n",
       "      <td>2</td>\n",
       "      <td>0.455</td>\n",
       "      <td>0.365</td>\n",
       "      <td>0.095</td>\n",
       "      <td>0.5140</td>\n",
       "      <td>0.2245</td>\n",
       "      <td>0.1010</td>\n",
       "      <td>0.15</td>\n",
       "    </tr>\n",
       "    <tr>\n",
       "      <th>1</th>\n",
       "      <td>2</td>\n",
       "      <td>0.350</td>\n",
       "      <td>0.265</td>\n",
       "      <td>0.090</td>\n",
       "      <td>0.2255</td>\n",
       "      <td>0.0995</td>\n",
       "      <td>0.0485</td>\n",
       "      <td>0.07</td>\n",
       "    </tr>\n",
       "    <tr>\n",
       "      <th>2</th>\n",
       "      <td>3</td>\n",
       "      <td>0.530</td>\n",
       "      <td>0.420</td>\n",
       "      <td>0.135</td>\n",
       "      <td>0.6770</td>\n",
       "      <td>0.2565</td>\n",
       "      <td>0.1415</td>\n",
       "      <td>0.21</td>\n",
       "    </tr>\n",
       "  </tbody>\n",
       "</table>\n",
       "</div>"
      ],
      "text/plain": [
       "   Sex  Length  Diameter  ...  Shucked weight  Viscera weight  Shell weight\n",
       "0    2   0.455     0.365  ...          0.2245          0.1010          0.15\n",
       "1    2   0.350     0.265  ...          0.0995          0.0485          0.07\n",
       "2    3   0.530     0.420  ...          0.2565          0.1415          0.21\n",
       "\n",
       "[3 rows x 8 columns]"
      ]
     },
     "execution_count": 24,
     "metadata": {
      "tags": []
     },
     "output_type": "execute_result"
    }
   ],
   "source": [
    "x.head(3)"
   ]
  },
  {
   "cell_type": "code",
   "execution_count": 25,
   "metadata": {
    "colab": {
     "base_uri": "https://localhost:8080/",
     "height": 143
    },
    "colab_type": "code",
    "executionInfo": {
     "elapsed": 10283,
     "status": "ok",
     "timestamp": 1586973440384,
     "user": {
      "displayName": "Sumit Mistry",
      "photoUrl": "https://lh3.googleusercontent.com/a-/AOh14Gj7UOyquUtRC0VYjYPKdmbsVWV3uE8gz82iVvNbyg=s64",
      "userId": "11733931254869325882"
     },
     "user_tz": 240
    },
    "id": "aAzMMh8xBPCN",
    "outputId": "99049c1a-5424-43cb-b236-831c49b43824"
   },
   "outputs": [
    {
     "data": {
      "text/html": [
       "<div>\n",
       "<style scoped>\n",
       "    .dataframe tbody tr th:only-of-type {\n",
       "        vertical-align: middle;\n",
       "    }\n",
       "\n",
       "    .dataframe tbody tr th {\n",
       "        vertical-align: top;\n",
       "    }\n",
       "\n",
       "    .dataframe thead th {\n",
       "        text-align: right;\n",
       "    }\n",
       "</style>\n",
       "<table border=\"1\" class=\"dataframe\">\n",
       "  <thead>\n",
       "    <tr style=\"text-align: right;\">\n",
       "      <th></th>\n",
       "      <th>Rings</th>\n",
       "    </tr>\n",
       "  </thead>\n",
       "  <tbody>\n",
       "    <tr>\n",
       "      <th>0</th>\n",
       "      <td>15</td>\n",
       "    </tr>\n",
       "    <tr>\n",
       "      <th>1</th>\n",
       "      <td>7</td>\n",
       "    </tr>\n",
       "    <tr>\n",
       "      <th>2</th>\n",
       "      <td>9</td>\n",
       "    </tr>\n",
       "  </tbody>\n",
       "</table>\n",
       "</div>"
      ],
      "text/plain": [
       "   Rings\n",
       "0     15\n",
       "1      7\n",
       "2      9"
      ]
     },
     "execution_count": 25,
     "metadata": {
      "tags": []
     },
     "output_type": "execute_result"
    }
   ],
   "source": [
    "y.head(3)"
   ]
  },
  {
   "cell_type": "code",
   "execution_count": 26,
   "metadata": {
    "colab": {
     "base_uri": "https://localhost:8080/",
     "height": 204
    },
    "colab_type": "code",
    "executionInfo": {
     "elapsed": 10281,
     "status": "ok",
     "timestamp": 1586973440386,
     "user": {
      "displayName": "Sumit Mistry",
      "photoUrl": "https://lh3.googleusercontent.com/a-/AOh14Gj7UOyquUtRC0VYjYPKdmbsVWV3uE8gz82iVvNbyg=s64",
      "userId": "11733931254869325882"
     },
     "user_tz": 240
    },
    "id": "VIwZJ2xTDZpq",
    "outputId": "0537f088-7a90-4a31-acd0-d9a3bad7dc16"
   },
   "outputs": [
    {
     "data": {
      "text/plain": [
       "Sex               0\n",
       "Length            0\n",
       "Diameter          0\n",
       "Height            0\n",
       "Whole weight      0\n",
       "Shucked weight    0\n",
       "Viscera weight    0\n",
       "Shell weight      0\n",
       "Rings             0\n",
       "dtype: int64"
      ]
     },
     "execution_count": 26,
     "metadata": {
      "tags": []
     },
     "output_type": "execute_result"
    }
   ],
   "source": [
    "dfR.isna().sum()"
   ]
  },
  {
   "cell_type": "code",
   "execution_count": 0,
   "metadata": {
    "colab": {},
    "colab_type": "code",
    "id": "FfZxRE6WDp9Z"
   },
   "outputs": [],
   "source": [
    "# all data is filled alreday !\n",
    "# no missing value detected."
   ]
  },
  {
   "cell_type": "code",
   "execution_count": 0,
   "metadata": {
    "colab": {},
    "colab_type": "code",
    "id": "KgBSNYGlEZuR"
   },
   "outputs": [],
   "source": [
    "from sklearn.model_selection import train_test_split\n",
    "x_train, x_test, y_train, y_test = train_test_split(x,y,random_state=1029, test_size=0.3 , train_size=0.7)"
   ]
  },
  {
   "cell_type": "code",
   "execution_count": 29,
   "metadata": {
    "colab": {
     "base_uri": "https://localhost:8080/",
     "height": 148
    },
    "colab_type": "code",
    "executionInfo": {
     "elapsed": 30592,
     "status": "ok",
     "timestamp": 1586973460706,
     "user": {
      "displayName": "Sumit Mistry",
      "photoUrl": "https://lh3.googleusercontent.com/a-/AOh14Gj7UOyquUtRC0VYjYPKdmbsVWV3uE8gz82iVvNbyg=s64",
      "userId": "11733931254869325882"
     },
     "user_tz": 240
    },
    "id": "irxnO6dcFLTj",
    "outputId": "d0181c7a-10d7-47b4-eee9-d0a91502a99f"
   },
   "outputs": [
    {
     "name": "stdout",
     "output_type": "stream",
     "text": [
      "(4177, 8) 100%\n",
      "(2923, 8) 70%\n",
      "(1254, 8) 30%\n",
      "\n",
      "(4177, 1) 100%\n",
      "(2923, 1) 70%\n",
      "(1254, 1) 30%\n"
     ]
    }
   ],
   "source": [
    "# x = independent variables\n",
    "print(x.shape, '100%')\n",
    "print(x_train.shape, '70%')\n",
    "print(x_test.shape, '30%')\n",
    "print()\n",
    "\n",
    "# y = dependent variable\n",
    "print(y.shape, '100%')\n",
    "print(y_train.shape, '70%')\n",
    "print(y_test.shape, '30%')\n",
    "\n"
   ]
  },
  {
   "cell_type": "markdown",
   "metadata": {
    "colab_type": "text",
    "id": "MqPKj4eXG3Zj"
   },
   "source": [
    "# # Questions\n",
    "\n",
    "* Select any two regression algorithms of your choice\n",
    "* Train the algorithms in 3 frameworks (simple sklearn, TensorFlow, Spark)\n",
    "* Calculate RMSE for all cases (6 cases= 2 Algo * 3 frameworks)\n",
    "* Which algorithm has the best accuracy"
   ]
  },
  {
   "cell_type": "markdown",
   "metadata": {
    "colab_type": "text",
    "id": "xo41mvc1QJQO"
   },
   "source": [
    "#Linear Regression"
   ]
  },
  {
   "cell_type": "code",
   "execution_count": 0,
   "metadata": {
    "colab": {},
    "colab_type": "code",
    "id": "bUQ37y3cEzeH"
   },
   "outputs": [],
   "source": [
    "#Linear Regression in SKLearn\n",
    "from sklearn.linear_model import LinearRegression"
   ]
  },
  {
   "cell_type": "code",
   "execution_count": 31,
   "metadata": {
    "colab": {
     "base_uri": "https://localhost:8080/",
     "height": 36
    },
    "colab_type": "code",
    "executionInfo": {
     "elapsed": 30592,
     "status": "ok",
     "timestamp": 1586973460709,
     "user": {
      "displayName": "Sumit Mistry",
      "photoUrl": "https://lh3.googleusercontent.com/a-/AOh14Gj7UOyquUtRC0VYjYPKdmbsVWV3uE8gz82iVvNbyg=s64",
      "userId": "11733931254869325882"
     },
     "user_tz": 240
    },
    "id": "4BCSx3wXEq2P",
    "outputId": "29592dab-bf05-4297-b26a-1184a7088591"
   },
   "outputs": [
    {
     "data": {
      "text/plain": [
       "LinearRegression(copy_X=True, fit_intercept=True, n_jobs=None, normalize=False)"
      ]
     },
     "execution_count": 31,
     "metadata": {
      "tags": []
     },
     "output_type": "execute_result"
    }
   ],
   "source": [
    "my_lin_reg = LinearRegression()\n",
    "my_lin_reg"
   ]
  },
  {
   "cell_type": "code",
   "execution_count": 32,
   "metadata": {
    "colab": {
     "base_uri": "https://localhost:8080/",
     "height": 36
    },
    "colab_type": "code",
    "executionInfo": {
     "elapsed": 30589,
     "status": "ok",
     "timestamp": 1586973460710,
     "user": {
      "displayName": "Sumit Mistry",
      "photoUrl": "https://lh3.googleusercontent.com/a-/AOh14Gj7UOyquUtRC0VYjYPKdmbsVWV3uE8gz82iVvNbyg=s64",
      "userId": "11733931254869325882"
     },
     "user_tz": 240
    },
    "id": "C1BPem20HGZZ",
    "outputId": "862fce69-9a4c-4680-b672-e565a6fc2390"
   },
   "outputs": [
    {
     "data": {
      "text/plain": [
       "LinearRegression(copy_X=True, fit_intercept=True, n_jobs=None, normalize=False)"
      ]
     },
     "execution_count": 32,
     "metadata": {
      "tags": []
     },
     "output_type": "execute_result"
    }
   ],
   "source": [
    "my_lin_reg.fit(x_train, y_train)"
   ]
  },
  {
   "cell_type": "code",
   "execution_count": 33,
   "metadata": {
    "colab": {
     "base_uri": "https://localhost:8080/",
     "height": 73
    },
    "colab_type": "code",
    "executionInfo": {
     "elapsed": 30585,
     "status": "ok",
     "timestamp": 1586973460710,
     "user": {
      "displayName": "Sumit Mistry",
      "photoUrl": "https://lh3.googleusercontent.com/a-/AOh14Gj7UOyquUtRC0VYjYPKdmbsVWV3uE8gz82iVvNbyg=s64",
      "userId": "11733931254869325882"
     },
     "user_tz": 240
    },
    "id": "cLUWnSz4HThY",
    "outputId": "e6b1cd57-d6c1-4a6d-c706-1a8a80568606"
   },
   "outputs": [
    {
     "name": "stdout",
     "output_type": "stream",
     "text": [
      "intercept is :  [2.26296253]\n",
      "coefficient for are in order Sex,Length,Diameter,Height,Whole weight,Shucked weight,Viscera weight,Shell weight :  [[  0.34628732  -0.44297998   9.97320466  20.84386493   9.88898552\n",
      "  -20.72111132 -10.93958359   6.19644913]]\n"
     ]
    }
   ],
   "source": [
    "print(\"intercept is : \", my_lin_reg.intercept_)\n",
    "print(\"coefficient for are in order Sex,Length,Diameter,Height,Whole weight,Shucked weight,Viscera weight,Shell weight : \", my_lin_reg.coef_)"
   ]
  },
  {
   "cell_type": "code",
   "execution_count": 0,
   "metadata": {
    "colab": {},
    "colab_type": "code",
    "id": "ymMna_P_HVoe"
   },
   "outputs": [],
   "source": [
    "predict_ring1 = my_lin_reg.predict(x_test)\n"
   ]
  },
  {
   "cell_type": "code",
   "execution_count": 35,
   "metadata": {
    "colab": {
     "base_uri": "https://localhost:8080/",
     "height": 54
    },
    "colab_type": "code",
    "executionInfo": {
     "elapsed": 30584,
     "status": "ok",
     "timestamp": 1586973460713,
     "user": {
      "displayName": "Sumit Mistry",
      "photoUrl": "https://lh3.googleusercontent.com/a-/AOh14Gj7UOyquUtRC0VYjYPKdmbsVWV3uE8gz82iVvNbyg=s64",
      "userId": "11733931254869325882"
     },
     "user_tz": 240
    },
    "id": "ia-AYbJYIJe1",
    "outputId": "eeb295dc-95fd-4373-b39a-51b3a00c59bc"
   },
   "outputs": [
    {
     "name": "stdout",
     "output_type": "stream",
     "text": [
      "MSE:  4.992197448499818\n",
      "MAE:  1.5989521245334795\n"
     ]
    }
   ],
   "source": [
    "from sklearn import metrics\n",
    "\n",
    "# MSE, MAE:\n",
    "print(\"MSE: \",metrics.mean_squared_error(y_test,predict_ring1))\n",
    "print(\"MAE: \",metrics.mean_absolute_error(y_test,predict_ring1))\n"
   ]
  },
  {
   "cell_type": "markdown",
   "metadata": {
    "colab_type": "text",
    "id": "TUPcuBKIQF6L"
   },
   "source": [
    "# Logistic Regression"
   ]
  },
  {
   "cell_type": "code",
   "execution_count": 0,
   "metadata": {
    "colab": {},
    "colab_type": "code",
    "id": "vLZacUWbKWZR"
   },
   "outputs": [],
   "source": [
    "# Logistic Regression in SKLearn\n",
    "from sklearn.linear_model import LogisticRegression"
   ]
  },
  {
   "cell_type": "code",
   "execution_count": 37,
   "metadata": {
    "colab": {
     "base_uri": "https://localhost:8080/",
     "height": 110
    },
    "colab_type": "code",
    "executionInfo": {
     "elapsed": 30583,
     "status": "ok",
     "timestamp": 1586973460716,
     "user": {
      "displayName": "Sumit Mistry",
      "photoUrl": "https://lh3.googleusercontent.com/a-/AOh14Gj7UOyquUtRC0VYjYPKdmbsVWV3uE8gz82iVvNbyg=s64",
      "userId": "11733931254869325882"
     },
     "user_tz": 240
    },
    "id": "gWPUokTCKX7T",
    "outputId": "6e35e287-c24f-46d0-e5d7-ae6922dfc0a0"
   },
   "outputs": [
    {
     "data": {
      "text/plain": [
       "LogisticRegression(C=1.0, class_weight=None, dual=False, fit_intercept=True,\n",
       "                   intercept_scaling=1, l1_ratio=None, max_iter=100,\n",
       "                   multi_class='auto', n_jobs=None, penalty='l2',\n",
       "                   random_state=1029, solver='lbfgs', tol=0.0001, verbose=0,\n",
       "                   warm_start=False)"
      ]
     },
     "execution_count": 37,
     "metadata": {
      "tags": []
     },
     "output_type": "execute_result"
    }
   ],
   "source": [
    "my_logi_reg = LogisticRegression(random_state=1029)\n",
    "my_logi_reg"
   ]
  },
  {
   "cell_type": "code",
   "execution_count": 38,
   "metadata": {
    "colab": {
     "base_uri": "https://localhost:8080/",
     "height": 317
    },
    "colab_type": "code",
    "executionInfo": {
     "elapsed": 30583,
     "status": "ok",
     "timestamp": 1586973460718,
     "user": {
      "displayName": "Sumit Mistry",
      "photoUrl": "https://lh3.googleusercontent.com/a-/AOh14Gj7UOyquUtRC0VYjYPKdmbsVWV3uE8gz82iVvNbyg=s64",
      "userId": "11733931254869325882"
     },
     "user_tz": 240
    },
    "id": "u1yuHsJ5Kam6",
    "outputId": "4efdf1b0-df65-4baa-b97f-117ca9222762"
   },
   "outputs": [
    {
     "name": "stderr",
     "output_type": "stream",
     "text": [
      "/usr/local/lib/python3.6/dist-packages/sklearn/utils/validation.py:760: DataConversionWarning: A column-vector y was passed when a 1d array was expected. Please change the shape of y to (n_samples, ), for example using ravel().\n",
      "  y = column_or_1d(y, warn=True)\n",
      "/usr/local/lib/python3.6/dist-packages/sklearn/linear_model/_logistic.py:940: ConvergenceWarning: lbfgs failed to converge (status=1):\n",
      "STOP: TOTAL NO. of ITERATIONS REACHED LIMIT.\n",
      "\n",
      "Increase the number of iterations (max_iter) or scale the data as shown in:\n",
      "    https://scikit-learn.org/stable/modules/preprocessing.html\n",
      "Please also refer to the documentation for alternative solver options:\n",
      "    https://scikit-learn.org/stable/modules/linear_model.html#logistic-regression\n",
      "  extra_warning_msg=_LOGISTIC_SOLVER_CONVERGENCE_MSG)\n"
     ]
    },
    {
     "data": {
      "text/plain": [
       "LogisticRegression(C=1.0, class_weight=None, dual=False, fit_intercept=True,\n",
       "                   intercept_scaling=1, l1_ratio=None, max_iter=100,\n",
       "                   multi_class='auto', n_jobs=None, penalty='l2',\n",
       "                   random_state=1029, solver='lbfgs', tol=0.0001, verbose=0,\n",
       "                   warm_start=False)"
      ]
     },
     "execution_count": 38,
     "metadata": {
      "tags": []
     },
     "output_type": "execute_result"
    }
   ],
   "source": [
    "my_logi_reg.fit(x_train, y_train)"
   ]
  },
  {
   "cell_type": "code",
   "execution_count": 0,
   "metadata": {
    "colab": {},
    "colab_type": "code",
    "id": "Bw-6Kp5CKknL"
   },
   "outputs": [],
   "source": [
    "predict_ring2= my_logi_reg.predict(x_train)"
   ]
  },
  {
   "cell_type": "code",
   "execution_count": 0,
   "metadata": {
    "colab": {},
    "colab_type": "code",
    "id": "6Ajxa0U7N4Rb"
   },
   "outputs": [],
   "source": [
    "from sklearn.metrics import accuracy_score, precision_score, confusion_matrix"
   ]
  },
  {
   "cell_type": "code",
   "execution_count": 41,
   "metadata": {
    "colab": {
     "base_uri": "https://localhost:8080/",
     "height": 36
    },
    "colab_type": "code",
    "executionInfo": {
     "elapsed": 30576,
     "status": "ok",
     "timestamp": 1586973460720,
     "user": {
      "displayName": "Sumit Mistry",
      "photoUrl": "https://lh3.googleusercontent.com/a-/AOh14Gj7UOyquUtRC0VYjYPKdmbsVWV3uE8gz82iVvNbyg=s64",
      "userId": "11733931254869325882"
     },
     "user_tz": 240
    },
    "id": "AGxHlk80N6RN",
    "outputId": "8970a3b0-cb7e-461c-86db-071bfe56f475"
   },
   "outputs": [
    {
     "data": {
      "text/plain": [
       "0.2716387273349299"
      ]
     },
     "execution_count": 41,
     "metadata": {
      "tags": []
     },
     "output_type": "execute_result"
    }
   ],
   "source": [
    "accuracy_score(y_train, predict_ring2) "
   ]
  },
  {
   "cell_type": "code",
   "execution_count": 42,
   "metadata": {
    "colab": {
     "base_uri": "https://localhost:8080/",
     "height": 129
    },
    "colab_type": "code",
    "executionInfo": {
     "elapsed": 30575,
     "status": "ok",
     "timestamp": 1586973460721,
     "user": {
      "displayName": "Sumit Mistry",
      "photoUrl": "https://lh3.googleusercontent.com/a-/AOh14Gj7UOyquUtRC0VYjYPKdmbsVWV3uE8gz82iVvNbyg=s64",
      "userId": "11733931254869325882"
     },
     "user_tz": 240
    },
    "id": "4Ink8b4SN-PE",
    "outputId": "a9d18f31-b987-432d-b318-12d9808fa237"
   },
   "outputs": [
    {
     "data": {
      "text/plain": [
       "array([-0.9837349 , -1.00207388,  3.51567113,  6.82301037,  6.48521136,\n",
       "        5.94105138,  4.75357769,  2.71496468,  1.18019755,  0.45418549,\n",
       "       -0.49966006, -0.8984485 , -0.32308919, -0.83062389, -1.24653047,\n",
       "       -1.47498424, -1.74471581, -2.73654304, -2.87541371, -2.60940851,\n",
       "       -2.67760154, -2.55464926, -3.23570634, -2.25505906, -1.69656811,\n",
       "       -2.22305912])"
      ]
     },
     "execution_count": 42,
     "metadata": {
      "tags": []
     },
     "output_type": "execute_result"
    }
   ],
   "source": [
    "my_logi_reg.intercept_"
   ]
  },
  {
   "cell_type": "markdown",
   "metadata": {
    "colab_type": "text",
    "id": "a0OteYp5QPl4"
   },
   "source": [
    "# Train the algorithms in 3 frameworks (simple sklearn-done above already, TensorFlow, Spark)"
   ]
  },
  {
   "cell_type": "markdown",
   "metadata": {
    "colab_type": "text",
    "id": "mbPegn3Ca-eq"
   },
   "source": [
    "# Tensorflow"
   ]
  },
  {
   "cell_type": "code",
   "execution_count": 0,
   "metadata": {
    "colab": {},
    "colab_type": "code",
    "id": "7Mv_rl54QP4C"
   },
   "outputs": [],
   "source": [
    "import tensorflow as tf\n",
    "from tensorflow import keras\n",
    "from tensorflow.keras import layers"
   ]
  },
  {
   "cell_type": "code",
   "execution_count": 44,
   "metadata": {
    "colab": {
     "base_uri": "https://localhost:8080/",
     "height": 73
    },
    "colab_type": "code",
    "executionInfo": {
     "elapsed": 30572,
     "status": "ok",
     "timestamp": 1586973460722,
     "user": {
      "displayName": "Sumit Mistry",
      "photoUrl": "https://lh3.googleusercontent.com/a-/AOh14Gj7UOyquUtRC0VYjYPKdmbsVWV3uE8gz82iVvNbyg=s64",
      "userId": "11733931254869325882"
     },
     "user_tz": 240
    },
    "id": "cZI1Zna-Rnos",
    "outputId": "704c403e-f803-4e5c-9318-cada8adc2e8f"
   },
   "outputs": [
    {
     "data": {
      "text/plain": [
       "Index(['Sex', 'Length', 'Diameter', 'Height', 'Whole weight', 'Shucked weight',\n",
       "       'Viscera weight', 'Shell weight', 'Rings'],\n",
       "      dtype='object')"
      ]
     },
     "execution_count": 44,
     "metadata": {
      "tags": []
     },
     "output_type": "execute_result"
    }
   ],
   "source": [
    "dfR.keys()"
   ]
  },
  {
   "cell_type": "code",
   "execution_count": 45,
   "metadata": {
    "colab": {
     "base_uri": "https://localhost:8080/",
     "height": 36
    },
    "colab_type": "code",
    "executionInfo": {
     "elapsed": 30572,
     "status": "ok",
     "timestamp": 1586973460723,
     "user": {
      "displayName": "Sumit Mistry",
      "photoUrl": "https://lh3.googleusercontent.com/a-/AOh14Gj7UOyquUtRC0VYjYPKdmbsVWV3uE8gz82iVvNbyg=s64",
      "userId": "11733931254869325882"
     },
     "user_tz": 240
    },
    "id": "Zgg6BDlARCjL",
    "outputId": "688511c1-467a-4bb9-a0d4-16751b708d4f"
   },
   "outputs": [
    {
     "name": "stdout",
     "output_type": "stream",
     "text": [
      "2.2.0-rc2\n"
     ]
    }
   ],
   "source": [
    "%tensorflow_version 2.x\n",
    "\n",
    "import tensorflow\n",
    "from tensorflow import keras\n",
    "import numpy\n",
    "import matplotlib.pyplot as matPlotLibPyPlot\n",
    "print(tensorflow.__version__)\n",
    "\n"
   ]
  },
  {
   "cell_type": "code",
   "execution_count": 0,
   "metadata": {
    "colab": {},
    "colab_type": "code",
    "id": "0LFxgg00Syh4"
   },
   "outputs": [],
   "source": [
    "def build_model():\n",
    "  model = keras.Sequential([\n",
    "    layers.Dense(64, activation='relu'), layers.Dense(64, activation='relu'),   layers.Dense(1)\n",
    "  ])\n",
    "\n",
    "  optimizer = tf.keras.optimizers.RMSprop(0.001)\n",
    "  model.compile(loss='mse',optimizer=optimizer,metrics=['mae', 'mse'])\n",
    "  return model"
   ]
  },
  {
   "cell_type": "code",
   "execution_count": 0,
   "metadata": {
    "colab": {},
    "colab_type": "code",
    "id": "WzycXxA1UAya"
   },
   "outputs": [],
   "source": [
    "model = build_model()"
   ]
  },
  {
   "cell_type": "code",
   "execution_count": 48,
   "metadata": {
    "colab": {
     "base_uri": "https://localhost:8080/",
     "height": 541
    },
    "colab_type": "code",
    "executionInfo": {
     "elapsed": 33227,
     "status": "ok",
     "timestamp": 1586973463387,
     "user": {
      "displayName": "Sumit Mistry",
      "photoUrl": "https://lh3.googleusercontent.com/a-/AOh14Gj7UOyquUtRC0VYjYPKdmbsVWV3uE8gz82iVvNbyg=s64",
      "userId": "11733931254869325882"
     },
     "user_tz": 240
    },
    "id": "V8OTUSPGTMoK",
    "outputId": "a0d896f0-e0c4-40d8-fda8-1e5b5acfcc7d"
   },
   "outputs": [
    {
     "name": "stdout",
     "output_type": "stream",
     "text": [
      "Epoch 1/10\n",
      "WARNING:tensorflow:Layer dense is casting an input tensor from dtype float64 to the layer's dtype of float32, which is new behavior in TensorFlow 2.  The layer has dtype float32 because it's dtype defaults to floatx.\n",
      "\n",
      "If you intended to run this layer in float32, you can safely ignore this warning. If in doubt, this warning is likely only an issue if you are porting a TensorFlow 1.X model to TensorFlow 2.\n",
      "\n",
      "To change all layers to have dtype float64 by default, call `tf.keras.backend.set_floatx('float64')`. To change just this layer, pass dtype='float64' to the layer constructor. If you are the author of this layer, you can disable autocasting by passing autocast=False to the base Layer constructor.\n",
      "\n",
      "92/92 [==============================] - 0s 1ms/step - loss: 49.4033 - mae: 5.9209 - mse: 49.7211\n",
      "Epoch 2/10\n",
      "92/92 [==============================] - 0s 1ms/step - loss: 8.3253 - mae: 2.1558 - mse: 8.3313\n",
      "Epoch 3/10\n",
      "92/92 [==============================] - 0s 1ms/step - loss: 7.5321 - mae: 1.9979 - mse: 7.5094\n",
      "Epoch 4/10\n",
      "92/92 [==============================] - 0s 1ms/step - loss: 7.1064 - mae: 1.9104 - mse: 7.0604\n",
      "Epoch 5/10\n",
      "92/92 [==============================] - 0s 1ms/step - loss: 6.7100 - mae: 1.8645 - mse: 6.7199\n",
      "Epoch 6/10\n",
      "92/92 [==============================] - 0s 1ms/step - loss: 6.5364 - mae: 1.8445 - mse: 6.5771\n",
      "Epoch 7/10\n",
      "92/92 [==============================] - 0s 1ms/step - loss: 6.4087 - mae: 1.8270 - mse: 6.4430\n",
      "Epoch 8/10\n",
      "92/92 [==============================] - 0s 1ms/step - loss: 6.2782 - mae: 1.8116 - mse: 6.3140\n",
      "Epoch 9/10\n",
      "92/92 [==============================] - 0s 1ms/step - loss: 6.1935 - mae: 1.8067 - mse: 6.2239\n",
      "Epoch 10/10\n",
      "92/92 [==============================] - 0s 1ms/step - loss: 6.1427 - mae: 1.7815 - mse: 6.1229\n"
     ]
    },
    {
     "data": {
      "text/plain": [
       "<tensorflow.python.keras.callbacks.History at 0x7f53bff8dd68>"
      ]
     },
     "execution_count": 48,
     "metadata": {
      "tags": []
     },
     "output_type": "execute_result"
    }
   ],
   "source": [
    "model.fit(x_train, y_train, epochs =10)"
   ]
  },
  {
   "cell_type": "markdown",
   "metadata": {
    "colab_type": "text",
    "id": "ZCcG2QH2Z3FE"
   },
   "source": [
    "# Sparks"
   ]
  },
  {
   "cell_type": "code",
   "execution_count": 72,
   "metadata": {
    "colab": {
     "base_uri": "https://localhost:8080/",
     "height": 92
    },
    "colab_type": "code",
    "executionInfo": {
     "elapsed": 17042,
     "status": "ok",
     "timestamp": 1586973695331,
     "user": {
      "displayName": "Sumit Mistry",
      "photoUrl": "https://lh3.googleusercontent.com/a-/AOh14Gj7UOyquUtRC0VYjYPKdmbsVWV3uE8gz82iVvNbyg=s64",
      "userId": "11733931254869325882"
     },
     "user_tz": 240
    },
    "id": "eJyOt49iuuZH",
    "outputId": "bf4d6ace-00ae-458f-c026-a99bedde9e64"
   },
   "outputs": [
    {
     "name": "stdout",
     "output_type": "stream",
     "text": [
      "Requirement already satisfied: pyspark in /usr/local/lib/python3.6/dist-packages (2.4.5)\n",
      "Requirement already satisfied: py4j==0.10.7 in /usr/local/lib/python3.6/dist-packages (from pyspark) (0.10.7)\n",
      "openjdk-8-jdk-headless is already the newest version (8u242-b08-0ubuntu3~18.04).\n",
      "0 upgraded, 0 newly installed, 0 to remove and 25 not upgraded.\n"
     ]
    }
   ],
   "source": [
    "!pip install pyspark\n",
    "!pip install -U -q PyDrive\n",
    "!apt install openjdk-8-jdk-headless -qq\n",
    "import os\n",
    "os.environ[\"JAVA_HOME\"] = \"/usr/lib/jvm/java-8-openjdk-amd64\""
   ]
  },
  {
   "cell_type": "code",
   "execution_count": 0,
   "metadata": {
    "colab": {},
    "colab_type": "code",
    "id": "k2JBGwnyuwVC"
   },
   "outputs": [],
   "source": [
    "from __future__ import print_function\n",
    "# $example on$\n",
    "from pyspark.ml import Pipeline\n",
    "from pyspark.ml.classification import RandomForestClassifier\n",
    "from pyspark.ml.feature import IndexToString, StringIndexer, VectorIndexer\n",
    "from pyspark.ml.evaluation import MulticlassClassificationEvaluator\n",
    "# $example off$\n",
    "from pyspark.sql import SparkSession\n",
    "if __name__ == \"__main__\":\n",
    "    spark = SparkSession.builder.appName(\"LinearRegressionExample\").getOrCreate()"
   ]
  },
  {
   "cell_type": "code",
   "execution_count": 0,
   "metadata": {
    "colab": {},
    "colab_type": "code",
    "id": "ctoi-_5Cuzfx"
   },
   "outputs": [],
   "source": [
    "# ------------------> I dont need this becasue I am using my own version csv file(whch is pre replaced SEX--> Integer)\n",
    "# from google.colab import files\n",
    "# uploaded = files.upload()"
   ]
  },
  {
   "cell_type": "code",
   "execution_count": 0,
   "metadata": {
    "colab": {},
    "colab_type": "code",
    "id": "1nlxkY0UvPfN"
   },
   "outputs": [],
   "source": [
    "df_dataset_spark = spark.read.format(\"csv\").option(\"header\",\"false\").load(\"corrected_csv\").toDF('Sex', 'Length', 'Diameter', 'Height', 'Whole weight', 'Shucked weight', 'Viscera weight', 'Shell weight', 'Rings')"
   ]
  },
  {
   "cell_type": "code",
   "execution_count": 76,
   "metadata": {
    "colab": {
     "base_uri": "https://localhost:8080/",
     "height": 73
    },
    "colab_type": "code",
    "executionInfo": {
     "elapsed": 15337,
     "status": "ok",
     "timestamp": 1586973696229,
     "user": {
      "displayName": "Sumit Mistry",
      "photoUrl": "https://lh3.googleusercontent.com/a-/AOh14Gj7UOyquUtRC0VYjYPKdmbsVWV3uE8gz82iVvNbyg=s64",
      "userId": "11733931254869325882"
     },
     "user_tz": 240
    },
    "id": "6gVBRO-IvdHq",
    "outputId": "09fcc2c6-52fa-4bc3-e498-8239620b82b1"
   },
   "outputs": [
    {
     "data": {
      "text/plain": [
       "[Row(Sex='2', Length='0.455', Diameter='0.365', Height='0.095', Whole weight='0.514', Shucked weight='0.2245', Viscera weight='0.10099999999999999', Shell weight='0.15', Rings='15'),\n",
       " Row(Sex='2', Length='0.35', Diameter='0.265', Height='0.09', Whole weight='0.2255', Shucked weight='0.0995', Viscera weight='0.0485', Shell weight='0.07', Rings='7'),\n",
       " Row(Sex='3', Length='0.53', Diameter='0.42', Height='0.135', Whole weight='0.677', Shucked weight='0.2565', Viscera weight='0.1415', Shell weight='0.21', Rings='9')]"
      ]
     },
     "execution_count": 76,
     "metadata": {
      "tags": []
     },
     "output_type": "execute_result"
    }
   ],
   "source": [
    "df_dataset_spark.head(3)"
   ]
  },
  {
   "cell_type": "code",
   "execution_count": 0,
   "metadata": {
    "colab": {},
    "colab_type": "code",
    "id": "oCvNssSd3lcK"
   },
   "outputs": [],
   "source": [
    "df_dataset_spark = df_dataset_spark.withColumn(\"Sex\", df_dataset_spark[\"Sex\"].cast(\"Integer\"))\n",
    "df_dataset_spark = df_dataset_spark.withColumn(\"Length\", df_dataset_spark[\"Length\"].cast(\"Float\"))\n",
    "df_dataset_spark = df_dataset_spark.withColumn(\"Diameter\", df_dataset_spark[\"Diameter\"].cast(\"Float\"))\n",
    "df_dataset_spark = df_dataset_spark.withColumn(\"Height\", df_dataset_spark[\"Height\"].cast(\"Float\"))\n",
    "df_dataset_spark = df_dataset_spark.withColumn(\"Whole weight\", df_dataset_spark[\"Whole weight\"].cast(\"Float\"))\n",
    "df_dataset_spark = df_dataset_spark.withColumn(\"Shucked weight\", df_dataset_spark[\"Shucked weight\"].cast(\"Float\"))\n",
    "df_dataset_spark = df_dataset_spark.withColumn(\"Viscera weight\", df_dataset_spark[\"Viscera weight\"].cast(\"Float\"))\n",
    "df_dataset_spark = df_dataset_spark.withColumn(\"Shell weight\", df_dataset_spark[\"Shell weight\"].cast(\"Float\"))\n",
    "df_dataset_spark = df_dataset_spark.withColumn(\"Rings\", df_dataset_spark[\"Rings\"].cast(\"Integer\"))"
   ]
  },
  {
   "cell_type": "code",
   "execution_count": 78,
   "metadata": {
    "colab": {
     "base_uri": "https://localhost:8080/",
     "height": 56
    },
    "colab_type": "code",
    "executionInfo": {
     "elapsed": 14849,
     "status": "ok",
     "timestamp": 1586973696230,
     "user": {
      "displayName": "Sumit Mistry",
      "photoUrl": "https://lh3.googleusercontent.com/a-/AOh14Gj7UOyquUtRC0VYjYPKdmbsVWV3uE8gz82iVvNbyg=s64",
      "userId": "11733931254869325882"
     },
     "user_tz": 240
    },
    "id": "szKkrMfG3t2N",
    "outputId": "090ac275-6d4b-40de-cbed-00ea2f1d7502"
   },
   "outputs": [
    {
     "data": {
      "text/plain": [
       "StructType(List(StructField(Sex,IntegerType,true),StructField(Length,FloatType,true),StructField(Diameter,FloatType,true),StructField(Height,FloatType,true),StructField(Whole weight,FloatType,true),StructField(Shucked weight,FloatType,true),StructField(Viscera weight,FloatType,true),StructField(Shell weight,FloatType,true),StructField(Rings,IntegerType,true)))"
      ]
     },
     "execution_count": 78,
     "metadata": {
      "tags": []
     },
     "output_type": "execute_result"
    }
   ],
   "source": [
    "df_dataset_spark.schema"
   ]
  },
  {
   "cell_type": "code",
   "execution_count": 79,
   "metadata": {
    "colab": {
     "base_uri": "https://localhost:8080/",
     "height": 93
    },
    "colab_type": "code",
    "executionInfo": {
     "elapsed": 14869,
     "status": "ok",
     "timestamp": 1586973696431,
     "user": {
      "displayName": "Sumit Mistry",
      "photoUrl": "https://lh3.googleusercontent.com/a-/AOh14Gj7UOyquUtRC0VYjYPKdmbsVWV3uE8gz82iVvNbyg=s64",
      "userId": "11733931254869325882"
     },
     "user_tz": 240
    },
    "id": "qwJl9CDi4KMJ",
    "outputId": "7ffde3d5-2f9c-4096-9eac-826d0f12f186"
   },
   "outputs": [
    {
     "data": {
      "text/plain": [
       "[Row(Sex=2, Length=0.45500001311302185, Diameter=0.36500000953674316, Height=0.0949999988079071, Whole weight=0.5139999985694885, Shucked weight=0.22450000047683716, Viscera weight=0.10100000351667404, Shell weight=0.15000000596046448, Rings=15),\n",
       " Row(Sex=2, Length=0.3499999940395355, Diameter=0.26499998569488525, Height=0.09000000357627869, Whole weight=0.22550000250339508, Shucked weight=0.09950000047683716, Viscera weight=0.048500001430511475, Shell weight=0.07000000029802322, Rings=7),\n",
       " Row(Sex=3, Length=0.5299999713897705, Diameter=0.41999998688697815, Height=0.13500000536441803, Whole weight=0.6769999861717224, Shucked weight=0.2565000057220459, Viscera weight=0.14149999618530273, Shell weight=0.20999999344348907, Rings=9)]"
      ]
     },
     "execution_count": 79,
     "metadata": {
      "tags": []
     },
     "output_type": "execute_result"
    }
   ],
   "source": [
    "df_dataset_spark.head(3)"
   ]
  },
  {
   "cell_type": "code",
   "execution_count": 0,
   "metadata": {
    "colab": {},
    "colab_type": "code",
    "id": "QcAf3-nkwAEg"
   },
   "outputs": [],
   "source": [
    "from pyspark.ml.feature import VectorAssembler\n",
    "from pyspark.ml.regression import LinearRegression"
   ]
  },
  {
   "cell_type": "code",
   "execution_count": 81,
   "metadata": {
    "colab": {
     "base_uri": "https://localhost:8080/",
     "height": 223
    },
    "colab_type": "code",
    "executionInfo": {
     "elapsed": 14732,
     "status": "ok",
     "timestamp": 1586973696932,
     "user": {
      "displayName": "Sumit Mistry",
      "photoUrl": "https://lh3.googleusercontent.com/a-/AOh14Gj7UOyquUtRC0VYjYPKdmbsVWV3uE8gz82iVvNbyg=s64",
      "userId": "11733931254869325882"
     },
     "user_tz": 240
    },
    "id": "Y2XvTf2owRzT",
    "outputId": "2443a048-ffc3-4150-98e6-5957573dbebb"
   },
   "outputs": [
    {
     "name": "stdout",
     "output_type": "stream",
     "text": [
      "+---+------+--------+------+------------+--------------+--------------+------------+-----+--------------------+\n",
      "|Sex|Length|Diameter|Height|Whole weight|Shucked weight|Viscera weight|Shell weight|Rings|      featuresVector|\n",
      "+---+------+--------+------+------------+--------------+--------------+------------+-----+--------------------+\n",
      "|  2| 0.455|   0.365| 0.095|       0.514|        0.2245|         0.101|        0.15|   15|[2.0,0.4550000131...|\n",
      "|  2|  0.35|   0.265|  0.09|      0.2255|        0.0995|        0.0485|        0.07|    7|[2.0,0.3499999940...|\n",
      "|  3|  0.53|    0.42| 0.135|       0.677|        0.2565|        0.1415|        0.21|    9|[3.0,0.5299999713...|\n",
      "|  2|  0.44|   0.365| 0.125|       0.516|        0.2155|         0.114|       0.155|   10|[2.0,0.4399999976...|\n",
      "|  1|  0.33|   0.255|  0.08|       0.205|        0.0895|        0.0395|       0.055|    7|[1.0,0.3300000131...|\n",
      "+---+------+--------+------+------------+--------------+--------------+------------+-----+--------------------+\n",
      "only showing top 5 rows\n",
      "\n"
     ]
    }
   ],
   "source": [
    "assembler = VectorAssembler(inputCols=['Sex', 'Length', 'Diameter', 'Height', 'Whole weight', \n",
    "                                       'Shucked weight', 'Viscera weight', 'Shell weight'], outputCol = 'featuresVector')\n",
    "final1 = assembler.transform(df_dataset_spark)\n",
    "final1.show(5)"
   ]
  },
  {
   "cell_type": "code",
   "execution_count": 82,
   "metadata": {
    "colab": {
     "base_uri": "https://localhost:8080/",
     "height": 204
    },
    "colab_type": "code",
    "executionInfo": {
     "elapsed": 14933,
     "status": "ok",
     "timestamp": 1586973697312,
     "user": {
      "displayName": "Sumit Mistry",
      "photoUrl": "https://lh3.googleusercontent.com/a-/AOh14Gj7UOyquUtRC0VYjYPKdmbsVWV3uE8gz82iVvNbyg=s64",
      "userId": "11733931254869325882"
     },
     "user_tz": 240
    },
    "id": "6A11uKtqzpbZ",
    "outputId": "f4ad7124-d2b8-4a4b-8da5-f51a44462ce4"
   },
   "outputs": [
    {
     "name": "stdout",
     "output_type": "stream",
     "text": [
      "+--------------------+-----+\n",
      "|      featuresVector|Rings|\n",
      "+--------------------+-----+\n",
      "|[2.0,0.4550000131...|   15|\n",
      "|[2.0,0.3499999940...|    7|\n",
      "|[3.0,0.5299999713...|    9|\n",
      "|[2.0,0.4399999976...|   10|\n",
      "+--------------------+-----+\n",
      "only showing top 4 rows\n",
      "\n"
     ]
    }
   ],
   "source": [
    "finalized_data = final1.select(\"featuresVector\",\"Rings\")\n",
    "finalized_data.show(4)"
   ]
  },
  {
   "cell_type": "code",
   "execution_count": 0,
   "metadata": {
    "colab": {},
    "colab_type": "code",
    "id": "Gcb6mxfd6GUY"
   },
   "outputs": [],
   "source": [
    "training_data,test_data = finalized_data.randomSplit([0.7, 0.3])\n",
    "\n",
    "my_logi_reg3 = LinearRegression(featuresCol='featuresVector', labelCol='Rings')\n",
    "\n",
    "my_logi_reg4 = my_logi_reg3.fit(training_data)\n"
   ]
  },
  {
   "cell_type": "code",
   "execution_count": 0,
   "metadata": {
    "colab": {},
    "colab_type": "code",
    "id": "SpaaCkku6Pf6"
   },
   "outputs": [],
   "source": [
    "pred= my_logi_reg4.evaluate(test_data)"
   ]
  },
  {
   "cell_type": "code",
   "execution_count": 85,
   "metadata": {
    "colab": {
     "base_uri": "https://localhost:8080/",
     "height": 503
    },
    "colab_type": "code",
    "executionInfo": {
     "elapsed": 19681,
     "status": "ok",
     "timestamp": 1586973702739,
     "user": {
      "displayName": "Sumit Mistry",
      "photoUrl": "https://lh3.googleusercontent.com/a-/AOh14Gj7UOyquUtRC0VYjYPKdmbsVWV3uE8gz82iVvNbyg=s64",
      "userId": "11733931254869325882"
     },
     "user_tz": 240
    },
    "id": "EwTZHbVr7Ood",
    "outputId": "b50dfb40-2e00-4175-b9bb-b914e58b0af6"
   },
   "outputs": [
    {
     "name": "stdout",
     "output_type": "stream",
     "text": [
      "+--------------------+-----+------------------+\n",
      "|      featuresVector|Rings|        prediction|\n",
      "+--------------------+-----+------------------+\n",
      "|[1.0,0.1099999994...|    3| 4.698414175456747|\n",
      "|[1.0,0.1500000059...|    2| 4.670538893661115|\n",
      "|[1.0,0.1599999964...|    3| 4.754730736683914|\n",
      "|[1.0,0.1749999970...|    4| 5.101266798841985|\n",
      "|[1.0,0.1850000023...|    4| 5.153785447567115|\n",
      "|[1.0,0.1850000023...|    6|10.030812165526106|\n",
      "|[1.0,0.1899999976...|    4| 5.355266612758289|\n",
      "|[1.0,0.2000000029...|    5| 5.203253918696742|\n",
      "|[1.0,0.2000000029...|    4| 5.516031757387704|\n",
      "|[1.0,0.2000000029...|    4| 5.306100380124402|\n",
      "|[1.0,0.2049999982...|    5|  5.27258248307767|\n",
      "|[1.0,0.2049999982...|    4| 5.501051755410391|\n",
      "|[1.0,0.2099999934...|    4| 5.428823223837269|\n",
      "|[1.0,0.2099999934...|    4| 5.480331922262419|\n",
      "|[1.0,0.2150000035...|    5| 5.318174500873329|\n",
      "|[1.0,0.2150000035...|    3| 5.490554698665735|\n",
      "|[1.0,0.2249999940...|    4| 5.590958916241868|\n",
      "|[1.0,0.2249999940...|    4| 5.844779319088194|\n",
      "|[1.0,0.2300000041...|    4| 5.851021550781116|\n",
      "|[1.0,0.2300000041...|    5| 5.603048660031788|\n",
      "+--------------------+-----+------------------+\n",
      "only showing top 20 rows\n",
      "\n"
     ]
    }
   ],
   "source": [
    "pred.predictions.show()"
   ]
  },
  {
   "cell_type": "code",
   "execution_count": 0,
   "metadata": {
    "colab": {},
    "colab_type": "code",
    "id": "_-2Q3TPd7Wzu"
   },
   "outputs": [],
   "source": [
    "coefficient = my_logi_reg4.coefficients\n",
    "intercept= my_logi_reg4.intercept"
   ]
  },
  {
   "cell_type": "code",
   "execution_count": 87,
   "metadata": {
    "colab": {
     "base_uri": "https://localhost:8080/",
     "height": 54
    },
    "colab_type": "code",
    "executionInfo": {
     "elapsed": 19303,
     "status": "ok",
     "timestamp": 1586973702741,
     "user": {
      "displayName": "Sumit Mistry",
      "photoUrl": "https://lh3.googleusercontent.com/a-/AOh14Gj7UOyquUtRC0VYjYPKdmbsVWV3uE8gz82iVvNbyg=s64",
      "userId": "11733931254869325882"
     },
     "user_tz": 240
    },
    "id": "HQSDLjvz7oqK",
    "outputId": "3755a15d-7631-4a6a-bbbb-8b0e50cb5a7c"
   },
   "outputs": [
    {
     "name": "stdout",
     "output_type": "stream",
     "text": [
      "Coefficients are: [0.3798189161346952,-3.7361893985788366,14.726100931155132,9.435661822766622,9.092709566365494,-19.441399795736938,-9.40173201110121,7.763470880629463]\n",
      "Intercept is: 3.0925319766022685\n"
     ]
    }
   ],
   "source": [
    "print (\"Coefficients are:\", coefficient)\n",
    "print (\"Intercept is:\", intercept)"
   ]
  },
  {
   "cell_type": "code",
   "execution_count": 0,
   "metadata": {
    "colab": {},
    "colab_type": "code",
    "id": "f0HdgbHcE4jv"
   },
   "outputs": [],
   "source": [
    "# Import the RegressionEvaluator library to for presentation of RMSE, MSE and MAE"
   ]
  },
  {
   "cell_type": "code",
   "execution_count": 0,
   "metadata": {
    "colab": {},
    "colab_type": "code",
    "id": "YhLVenDaGGT1"
   },
   "outputs": [],
   "source": [
    "from pyspark.ml.evaluation import RegressionEvaluator"
   ]
  },
  {
   "cell_type": "code",
   "execution_count": 0,
   "metadata": {
    "colab": {},
    "colab_type": "code",
    "id": "FkpwpWOOJi5b"
   },
   "outputs": [],
   "source": [
    "t2 = RegressionEvaluator(labelCol= 'Rings', predictionCol='prediction', metricName='rmse')"
   ]
  },
  {
   "cell_type": "code",
   "execution_count": 91,
   "metadata": {
    "colab": {
     "base_uri": "https://localhost:8080/",
     "height": 36
    },
    "colab_type": "code",
    "executionInfo": {
     "elapsed": 17884,
     "status": "ok",
     "timestamp": 1586973702747,
     "user": {
      "displayName": "Sumit Mistry",
      "photoUrl": "https://lh3.googleusercontent.com/a-/AOh14Gj7UOyquUtRC0VYjYPKdmbsVWV3uE8gz82iVvNbyg=s64",
      "userId": "11733931254869325882"
     },
     "user_tz": 240
    },
    "id": "0qzbCj35PAs0",
    "outputId": "a0c4316b-5eb8-4008-b5ca-811713254319"
   },
   "outputs": [
    {
     "name": "stdout",
     "output_type": "stream",
     "text": [
      "RMSE:  2.1723952138291094\n"
     ]
    }
   ],
   "source": [
    "print (\"RMSE: \", t2.evaluate(pred.predictions))"
   ]
  },
  {
   "cell_type": "code",
   "execution_count": 92,
   "metadata": {
    "colab": {
     "base_uri": "https://localhost:8080/",
     "height": 36
    },
    "colab_type": "code",
    "executionInfo": {
     "elapsed": 17824,
     "status": "ok",
     "timestamp": 1586973702747,
     "user": {
      "displayName": "Sumit Mistry",
      "photoUrl": "https://lh3.googleusercontent.com/a-/AOh14Gj7UOyquUtRC0VYjYPKdmbsVWV3uE8gz82iVvNbyg=s64",
      "userId": "11733931254869325882"
     },
     "user_tz": 240
    },
    "id": "-K4TbzkBUoly",
    "outputId": "7b47882d-6332-4fab-cfac-70420e46913d"
   },
   "outputs": [
    {
     "name": "stdout",
     "output_type": "stream",
     "text": [
      "MSE: 4.719300965067621\n"
     ]
    }
   ],
   "source": [
    "print (f\"MSE: {t2.evaluate(pred.predictions, {t2.metricName:'mse'})}\")"
   ]
  },
  {
   "cell_type": "code",
   "execution_count": 93,
   "metadata": {
    "colab": {
     "base_uri": "https://localhost:8080/",
     "height": 36
    },
    "colab_type": "code",
    "executionInfo": {
     "elapsed": 17502,
     "status": "ok",
     "timestamp": 1586973702748,
     "user": {
      "displayName": "Sumit Mistry",
      "photoUrl": "https://lh3.googleusercontent.com/a-/AOh14Gj7UOyquUtRC0VYjYPKdmbsVWV3uE8gz82iVvNbyg=s64",
      "userId": "11733931254869325882"
     },
     "user_tz": 240
    },
    "id": "FPVyaWYTU3qB",
    "outputId": "c3dc047e-3588-4942-c162-7939f895ae62"
   },
   "outputs": [
    {
     "name": "stdout",
     "output_type": "stream",
     "text": [
      "MAE: 1.5840571056851338\n"
     ]
    }
   ],
   "source": [
    "print (f\"MAE: {t2.evaluate(pred.predictions, {t2.metricName:'mae'})}\")"
   ]
  },
  {
   "cell_type": "code",
   "execution_count": 0,
   "metadata": {
    "colab": {},
    "colab_type": "code",
    "id": "a-4vTGbyXgwR"
   },
   "outputs": [],
   "source": []
  }
 ],
 "metadata": {
  "colab": {
   "collapsed_sections": [],
   "name": "13-1.ipynb",
   "provenance": []
  },
  "kernelspec": {
   "display_name": "Python 3",
   "language": "python",
   "name": "python3"
  },
  "language_info": {
   "codemirror_mode": {
    "name": "ipython",
    "version": 3
   },
   "file_extension": ".py",
   "mimetype": "text/x-python",
   "name": "python",
   "nbconvert_exporter": "python",
   "pygments_lexer": "ipython3",
   "version": "3.7.0"
  }
 },
 "nbformat": 4,
 "nbformat_minor": 1
}
